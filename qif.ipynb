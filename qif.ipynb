{
 "cells": [
  {
   "cell_type": "markdown",
   "metadata": {},
   "source": [
    "<a target=\"_blank\" href=\"https://colab.research.google.com/github/cyneuro/ML_camp/blob/main/qif.ipynb\">\n",
    "  <img src=\"https://colab.research.google.com/assets/colab-badge.svg\" alt=\"Open In Colab\"/>\n",
    "</a>"
   ]
  },
  {
   "cell_type": "markdown",
   "metadata": {},
   "source": [
    "# Quadratic Integrate-and-Fire\n",
    "\n",
    "A simple [QIF model](https://en.wikipedia.org/wiki/Quadratic_integrate_and_fire) has the following specification:\n",
    "$$\n",
    "\\dot{V} = V^2 + I; \\text{ if } V \\ge 1 \\text{ then } V := V_{reset}.\n",
    "$$\n",
    "\n",
    "Implement this model as a class `QIF`. The class should implement\n",
    "- a `simulate(I, T)` method which accepts a current injection value $I$ and simulates the model for $T$ time steps; the simulated voltage is stored inside the class.\n",
    "- a `plot()` method which plots the simulated voltage if it exists."
   ]
  },
  {
   "cell_type": "code",
   "execution_count": null,
   "metadata": {},
   "outputs": [],
   "source": [
    "# Your code here"
   ]
  }
 ],
 "metadata": {
  "language_info": {
   "name": "python"
  }
 },
 "nbformat": 4,
 "nbformat_minor": 2
}
